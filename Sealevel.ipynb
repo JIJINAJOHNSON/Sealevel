{
 "cells": [
  {
   "cell_type": "code",
   "execution_count": 1,
   "metadata": {},
   "outputs": [],
   "source": [
    "import pandas as pd"
   ]
  },
  {
   "cell_type": "code",
   "execution_count": 2,
   "metadata": {},
   "outputs": [],
   "source": [
    "sealevel=pd.read_csv('https://pkgstore.datahub.io/core/sea-level-rise/csiro_alt_gmsl_mo_2015_csv/data/dc258c2039d8b640f74efd3d23e1c920/csiro_alt_gmsl_mo_2015_csv.csv')"
   ]
  },
  {
   "cell_type": "code",
   "execution_count": 3,
   "metadata": {},
   "outputs": [
    {
     "data": {
      "text/html": [
       "<div>\n",
       "<style scoped>\n",
       "    .dataframe tbody tr th:only-of-type {\n",
       "        vertical-align: middle;\n",
       "    }\n",
       "\n",
       "    .dataframe tbody tr th {\n",
       "        vertical-align: top;\n",
       "    }\n",
       "\n",
       "    .dataframe thead th {\n",
       "        text-align: right;\n",
       "    }\n",
       "</style>\n",
       "<table border=\"1\" class=\"dataframe\">\n",
       "  <thead>\n",
       "    <tr style=\"text-align: right;\">\n",
       "      <th></th>\n",
       "      <th>Time</th>\n",
       "      <th>GMSL</th>\n",
       "    </tr>\n",
       "  </thead>\n",
       "  <tbody>\n",
       "    <tr>\n",
       "      <th>0</th>\n",
       "      <td>1993-01-15</td>\n",
       "      <td>-1.6</td>\n",
       "    </tr>\n",
       "    <tr>\n",
       "      <th>1</th>\n",
       "      <td>1993-02-15</td>\n",
       "      <td>-3.4</td>\n",
       "    </tr>\n",
       "    <tr>\n",
       "      <th>2</th>\n",
       "      <td>1993-03-15</td>\n",
       "      <td>5.5</td>\n",
       "    </tr>\n",
       "    <tr>\n",
       "      <th>3</th>\n",
       "      <td>1993-04-15</td>\n",
       "      <td>0.1</td>\n",
       "    </tr>\n",
       "    <tr>\n",
       "      <th>4</th>\n",
       "      <td>1993-05-15</td>\n",
       "      <td>5.3</td>\n",
       "    </tr>\n",
       "    <tr>\n",
       "      <th>...</th>\n",
       "      <td>...</td>\n",
       "      <td>...</td>\n",
       "    </tr>\n",
       "    <tr>\n",
       "      <th>261</th>\n",
       "      <td>2014-10-15</td>\n",
       "      <td>71.7</td>\n",
       "    </tr>\n",
       "    <tr>\n",
       "      <th>262</th>\n",
       "      <td>2014-11-15</td>\n",
       "      <td>69.0</td>\n",
       "    </tr>\n",
       "    <tr>\n",
       "      <th>263</th>\n",
       "      <td>2014-12-15</td>\n",
       "      <td>76.0</td>\n",
       "    </tr>\n",
       "    <tr>\n",
       "      <th>264</th>\n",
       "      <td>2015-01-15</td>\n",
       "      <td>74.5</td>\n",
       "    </tr>\n",
       "    <tr>\n",
       "      <th>265</th>\n",
       "      <td>2015-02-15</td>\n",
       "      <td>79.5</td>\n",
       "    </tr>\n",
       "  </tbody>\n",
       "</table>\n",
       "<p>266 rows × 2 columns</p>\n",
       "</div>"
      ],
      "text/plain": [
       "           Time  GMSL\n",
       "0    1993-01-15  -1.6\n",
       "1    1993-02-15  -3.4\n",
       "2    1993-03-15   5.5\n",
       "3    1993-04-15   0.1\n",
       "4    1993-05-15   5.3\n",
       "..          ...   ...\n",
       "261  2014-10-15  71.7\n",
       "262  2014-11-15  69.0\n",
       "263  2014-12-15  76.0\n",
       "264  2015-01-15  74.5\n",
       "265  2015-02-15  79.5\n",
       "\n",
       "[266 rows x 2 columns]"
      ]
     },
     "execution_count": 3,
     "metadata": {},
     "output_type": "execute_result"
    }
   ],
   "source": [
    "sealevel"
   ]
  },
  {
   "cell_type": "code",
   "execution_count": 4,
   "metadata": {},
   "outputs": [],
   "source": [
    "from matplotlib import pyplot as plt \n",
    "import seaborn as sns"
   ]
  },
  {
   "cell_type": "code",
   "execution_count": 5,
   "metadata": {},
   "outputs": [
    {
     "data": {
      "image/png": "[encoded data removed]",
      "text/plain": [
       "<Figure size 432x288 with 1 Axes>"
      ]
     },
     "metadata": {
      "needs_background": "light"
     },
     "output_type": "display_data"
    }
   ],
   "source": [
    "sns.scatterplot(x=\"Time\",y=\"GMSL\",data=sealevel)\n",
    "plt.show()"
   ]
  },
  {
   "cell_type": "code",
   "execution_count": 6,
   "metadata": {},
   "outputs": [],
   "source": [
    "import scipy.stats as stats"
   ]
  },
  {
   "cell_type": "code",
   "execution_count": 7,
   "metadata": {},
   "outputs": [],
   "source": [
    "rate = 266"
   ]
  },
  {
   "cell_type": "code",
   "execution_count": 8,
   "metadata": {},
   "outputs": [],
   "source": [
    "import numpy as np"
   ]
  },
  {
   "cell_type": "code",
   "execution_count": 13,
   "metadata": {},
   "outputs": [],
   "source": [
    "n=np.arange(0,265)"
   ]
  },
  {
   "cell_type": "code",
   "execution_count": 15,
   "metadata": {},
   "outputs": [],
   "source": [
    "poisson = stats.poisson.pmf(n,rate)"
   ]
  },
  {
   "cell_type": "code",
   "execution_count": 16,
   "metadata": {},
   "outputs": [
    {
     "data": {
      "text/plain": [
       "array([3.00377787e-116, 7.99004914e-114, 1.06267654e-111, 9.42239862e-110,\n",
       "       6.26589508e-108, 3.33345618e-106, 1.47783224e-104, 5.61576252e-103,\n",
       "       1.86724104e-101, 5.51873462e-100, 1.46798341e-098, 3.54985079e-097,\n",
       "       7.86883591e-096, 1.61008489e-094, 3.05916129e-093, 5.42491268e-092,\n",
       "       9.01891733e-091, 1.41119530e-089, 2.08543305e-088, 2.91960628e-087,\n",
       "       3.88307635e-086, 4.91856337e-085, 5.94699026e-084, 6.87782352e-083,\n",
       "       7.62292107e-082, 8.11078801e-081, 8.29796004e-080, 8.17502730e-079,\n",
       "       7.76627594e-078, 7.12354965e-077, 6.31621403e-076, 5.41971913e-075,\n",
       "       4.50514153e-074, 3.63141711e-073, 2.84104986e-072, 2.15919789e-071,\n",
       "       1.59540733e-070, 1.14696851e-069, 8.02877960e-069, 5.47603942e-068,\n",
       "       3.64156621e-067, 2.36257710e-066, 1.49629883e-065, 9.25617417e-065,\n",
       "       5.59577802e-064, 3.30772656e-063, 1.91272884e-062, 1.08252313e-061,\n",
       "       5.99898235e-061, 3.25659042e-060, 1.73250610e-059, 9.03620829e-059,\n",
       "       4.62236809e-058, 2.31990549e-057, 1.14276826e-056, 5.52684287e-056,\n",
       "       2.62525036e-055, 1.22511684e-054, 5.61863928e-054, 2.53314923e-053,\n",
       "       1.12302949e-052, 4.89714501e-052, 2.10103318e-051, 8.87102898e-051,\n",
       "       3.68702142e-050, 1.50884261e-049, 6.08109295e-049, 2.41428466e-048,\n",
       "       9.44411354e-048, 3.64077421e-047, 1.38349420e-046, 5.18323178e-046,\n",
       "       1.91491619e-045, 6.97763981e-045, 2.50817863e-044, 8.89567355e-044,\n",
       "       3.11348574e-043, 1.07556780e-042, 3.66796199e-042, 1.23503530e-041,\n",
       "       4.10649238e-041, 1.34855182e-040, 4.37457054e-040, 1.40197080e-039,\n",
       "       4.43957420e-039, 1.38932557e-038, 4.29721630e-038, 1.31386154e-037,\n",
       "       3.97144510e-037, 1.18697123e-036, 3.50815942e-036, 1.02546198e-035,\n",
       "       2.96492269e-035, 8.48031652e-035, 2.39974914e-034, 6.71929760e-034,\n",
       "       1.86180538e-033, 5.10556938e-033, 1.38579740e-032, 3.72345565e-032,\n",
       "       9.90439203e-032, 2.60848345e-031, 6.80251565e-031, 1.75676618e-030,\n",
       "       4.49326734e-030, 1.13829439e-029, 2.85647461e-029, 7.10114249e-029,\n",
       "       1.74898509e-028, 4.26816546e-028, 1.03212001e-027, 2.47336867e-027,\n",
       "       5.87425060e-027, 1.38278819e-026, 3.22650579e-026, 7.46304817e-026,\n",
       "       1.71135415e-025, 3.89077097e-025, 8.77072101e-025, 1.96051411e-024,\n",
       "       4.34580627e-024, 9.55359064e-024, 2.08299599e-023, 4.50469052e-023,\n",
       "       9.66328773e-023, 2.05634763e-022, 4.34117833e-022, 9.09254674e-022,\n",
       "       1.88954487e-021, 3.89627081e-021, 7.97236951e-021, 1.61881702e-020,\n",
       "       3.26216156e-020, 6.52432312e-020, 1.29512683e-019, 2.55187953e-019,\n",
       "       4.99117614e-019, 9.69089674e-019, 1.86795546e-018, 3.57464857e-018,\n",
       "       6.79183229e-018, 1.28129602e-017, 2.40017424e-017, 4.46465977e-017,\n",
       "       8.24721874e-017, 1.51293806e-016, 2.75644879e-016, 4.98785972e-016,\n",
       "       8.96466679e-016, 1.60040360e-015, 2.83804905e-015, 4.99947714e-015,\n",
       "       8.74908499e-015, 1.52108275e-014, 2.62732475e-014, 4.50882828e-014,\n",
       "       7.68813028e-014, 1.30257494e-013, 2.19294262e-013, 3.66869645e-013,\n",
       "       6.09920786e-013, 1.00769521e-012, 1.65461066e-012, 2.70016217e-012,\n",
       "       4.37953133e-012, 7.06033536e-012, 1.13135494e-011, 1.80203841e-011,\n",
       "       2.85322749e-011, 4.49087876e-011, 7.02690442e-011, 1.09307402e-010,\n",
       "       1.69045168e-010, 2.59919161e-010, 3.97347682e-010, 6.03968477e-010,\n",
       "       9.12815993e-010, 1.37180257e-009, 2.04999709e-009, 3.04636440e-009,\n",
       "       4.50184961e-009, 6.61597788e-009, 9.66950613e-009, 1.40551291e-008,\n",
       "       2.03188280e-008, 2.92151797e-008, 4.17808484e-008, 5.94315811e-008,\n",
       "       8.40893647e-008, 1.18347995e-007, 1.65687193e-007, 2.30747609e-007,\n",
       "       3.19681583e-007, 4.40597415e-007, 6.04118105e-007, 8.24079056e-007,\n",
       "       1.11839300e-006, 1.51011441e-006, 2.02873956e-006, 2.71178253e-006,\n",
       "       3.60667077e-006, 4.77300709e-006, 6.28524695e-006, 8.23584084e-006,\n",
       "       1.07388905e-005, 1.39343652e-005, 1.79929182e-005, 2.31213345e-005,\n",
       "       2.95686297e-005, 3.76328015e-005, 4.76682152e-005, 6.00935794e-005,\n",
       "       7.54004345e-005, 9.41620449e-005, 1.17042542e-004, 1.44806122e-004,\n",
       "       1.78326057e-004, 2.18593231e-004, 2.66723851e-004, 3.23965956e-004,\n",
       "       3.91704292e-004, 4.71463085e-004, 5.64906219e-004, 6.73834324e-004,\n",
       "       8.00178259e-004, 9.45988520e-004, 1.11342012e-003, 1.30471256e-003,\n",
       "       1.52216465e-003, 1.76810392e-003, 2.04485062e-003, 2.35467647e-003,\n",
       "       2.69975837e-003, 3.08212758e-003, 3.50361511e-003, 3.96579413e-003,\n",
       "       4.46992050e-003, 5.01687279e-003, 5.60709312e-003, 6.24053042e-003,\n",
       "       6.91658788e-003, 7.63407625e-003, 8.39117472e-003, 9.18540114e-003,\n",
       "       1.00135930e-002, 1.08719010e-002, 1.17557954e-002, 1.26600874e-002,\n",
       "       1.35789647e-002, 1.45060426e-002, 1.54344293e-002, 1.63568056e-002,\n",
       "       1.72655170e-002, 1.81526779e-002, 1.90102848e-002, 1.98303363e-002,\n",
       "       2.06049588e-002, 2.13265332e-002, 2.19878211e-002, 2.25820865e-002,\n",
       "       2.31032116e-002, 2.35458018e-002, 2.39052797e-002, 2.41779635e-002,\n",
       "       2.43611299e-002])"
      ]
     },
     "execution_count": 16,
     "metadata": {},
     "output_type": "execute_result"
    }
   ],
   "source": [
    "poisson"
   ]
  },
  {
   "cell_type": "code",
   "execution_count": 17,
   "metadata": {},
   "outputs": [
    {
     "data": {
      "image/png": "[encoded data removed]",
      "text/plain": [
       "<Figure size 432x288 with 1 Axes>"
      ]
     },
     "metadata": {
      "needs_background": "light"
     },
     "output_type": "display_data"
    }
   ],
   "source": [
    "plt.plot(n,poisson,'o-')\n",
    "plt.title('Rise in Sea level' )\n",
    "plt.xlabel('Year')\n",
    "plt.ylabel('Sea level (inches)')\n",
    "plt.show()"
   ]
  },
  {
   "cell_type": "code",
   "execution_count": null,
   "metadata": {},
   "outputs": [],
   "source": []
  }
 ],
 "metadata": {
  "kernelspec": {
   "display_name": "Python 3",
   "language": "python",
   "name": "python3"
  },
  "language_info": {
   "codemirror_mode": {
    "name": "ipython",
    "version": 3
   },
   "file_extension": ".py",
   "mimetype": "text/x-python",
   "name": "python",
   "nbconvert_exporter": "python",
   "pygments_lexer": "ipython3",
   "version": "3.8.5"
  }
 },
 "nbformat": 4,
 "nbformat_minor": 4
}
